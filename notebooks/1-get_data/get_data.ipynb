{
 "cells": [
  {
   "cell_type": "code",
   "execution_count": 1,
   "metadata": {},
   "outputs": [],
   "source": [
    "# ------------------------------------------------------------------------\n",
    "#\n",
    "# TITLE - get_data.ipynb\n",
    "# PROJECT - mw_dfs\n",
    "#\n",
    "# ------------------------------------------------------------------------\n",
    "#\n",
    "# Docstrings and metadata:\n",
    "'''get Gaia DR2 and APOGEE DR16 data\n",
    "\n",
    "data_dir change to general'''\n",
    "\n",
    "__author__ = \"James Lane\""
   ]
  },
  {
   "cell_type": "code",
   "execution_count": 2,
   "metadata": {},
   "outputs": [
    {
     "name": "stdout",
     "output_type": "stream",
     "text": [
      "/home/lane/.local/lib/python3.6/site-packages/galpy/util/bovy_plot.py:5: FutureWarning: galpy.util.bovy_plot is being deprecated in favor of galpy.util.plot; functions inside of this module have also changed name, but all functions still exist; please switch to the new import and new function names, because the old import and function names will be removed in v1.9\n",
      "  warnings.warn('galpy.util.bovy_plot is being deprecated in favor of galpy.util.plot; functions inside of this module have also changed name, but all functions still exist; please switch to the new import and new function names, because the old import and function names will be removed in v1.9',FutureWarning)\n",
      "\n",
      "/home/lane/.local/lib/python3.6/site-packages/galpy/util/bovy_coords.py:6: FutureWarning: galpy.util.bovy_coords is being deprecated in favor of galpy.util.coords; all functions in there are the same; please switch to the new import, because the old import will be removed in v1.9\n",
      "  warnings.warn('galpy.util.bovy_coords is being deprecated in favor of galpy.util.coords; all functions in there are the same; please switch to the new import, because the old import will be removed in v1.9',FutureWarning)\n",
      "\n"
     ]
    }
   ],
   "source": [
    "### Imports\n",
    "import os\n",
    "import numpy as np\n",
    "import dill as pickle\n",
    "\n",
    "# Set APOGEE version for the package\n",
    "RESULTS_VERS = 'l33'\n",
    "# Year 7 is appropriate for DR16 (l33)\n",
    "apo_combined_select_year = 7\n",
    "os.environ['RESULTS_VERS'] = RESULTS_VERS\n",
    "\n",
    "# APOGEE, Gaia\n",
    "import apogee.tools.read as apread\n",
    "import apogee.select as apsel\n",
    "import apogee.tools as apotools\n",
    "from gaia_tools import xmatch"
   ]
  },
  {
   "cell_type": "code",
   "execution_count": 3,
   "metadata": {},
   "outputs": [],
   "source": [
    "### Notebook setup\n",
    "%load_ext autoreload\n",
    "%autoreload 2"
   ]
  },
  {
   "cell_type": "code",
   "execution_count": 4,
   "metadata": {},
   "outputs": [],
   "source": [
    "### Keywords\n",
    "\n",
    "# Force load different data products even they exist (overwrite them)?\n",
    "force_load_allstar = False\n",
    "force_load_apogeeSF = False\n",
    "force_load_statIndx = False\n",
    "force_load_gaiadr2 = False\n",
    "\n",
    "# Keywords for APOGEE allstar (see apread.allStar.__doc__)\n",
    "allstar_main = True # Only select stars in the main survey\n",
    "allstar_rmdups = True # Remove duplicates\n",
    "allstar_use_astroNN_abundances = False # replace ASPCAP w/ astroNN abundances\n",
    "allstar_use_astroNN_distances = True # Add in astroNN distances\n",
    "allstar_use_astroNN_ages = False # Add in astroNN ages"
   ]
  },
  {
   "cell_type": "code",
   "execution_count": 5,
   "metadata": {},
   "outputs": [],
   "source": [
    "### Pathing\n",
    "\n",
    "# Outputs\n",
    "data_dir = '/geir_data/scr/lane/projects/mw-dfs/data/data_Sept_2021/gaia_apogee/'\n",
    "allstar_filename = data_dir+'allstar.npy'\n",
    "apogeeSF_filename = data_dir+'apogeeSF_'+RESULTS_VERS+'.dat'\n",
    "statIndx_filename = data_dir+'statIndx_'+RESULTS_VERS+'.npy'\n",
    "gaia2_data_filename = data_dir+'GDR2_'+RESULTS_VERS+'_data.npy'\n",
    "apogee_matches_filename = data_dir+'GDR2_'+RESULTS_VERS+'_apogee_matches.npy'"
   ]
  },
  {
   "cell_type": "markdown",
   "metadata": {},
   "source": [
    "# Get APOGEE Data"
   ]
  },
  {
   "cell_type": "code",
   "execution_count": 6,
   "metadata": {},
   "outputs": [
    {
     "name": "stdout",
     "output_type": "stream",
     "text": [
      "Loading APOGEE from results version: l33\n",
      "/home/lane/software/apogee/apogee/tools/read.py:1423: UserWarning: Adding distances from Leung & Bovy (2019b)\n",
      "  warnings.warn(\"Adding distances from Leung & Bovy (2019b)\")\n",
      "\n",
      "Removing duplicates (might take a while) and caching the duplicate-free file ... (file not cached if use_astroNN=True)\r"
     ]
    },
    {
     "name": "stderr",
     "output_type": "stream",
     "text": [
      "100%|██████████| 105448/105448 [00:08<00:00, 13038.61it/s]\n"
     ]
    },
    {
     "name": "stdout",
     "output_type": "stream",
     "text": [
      "Saving allstar as: /geir_data/scr/lane/projects/mw-dfs/data/data_Sept_2021/gaia_apogee/allstar.npy\n"
     ]
    }
   ],
   "source": [
    "# Get data\n",
    "if not force_load_allstar and os.path.exists(allstar_filename):\n",
    "    print('Loading pre-computed allstar from '+allstar_filename)\n",
    "    allstar = np.load(allstar_filename)\n",
    "else:\n",
    "    print('Loading APOGEE from results version: '+RESULTS_VERS)\n",
    "    allstar = apread.allStar(main=allstar_main, rmdups=allstar_rmdups, \n",
    "        use_astroNN_abundances=allstar_use_astroNN_abundances,\n",
    "        use_astroNN_distances=allstar_use_astroNN_distances,\n",
    "        use_astroNN_ages=allstar_use_astroNN_ages)\n",
    "    print('Saving allstar as: '+allstar_filename)\n",
    "    np.save(allstar_filename, allstar)\n",
    "    # Automatically force the rest because you loaded a new allstar\n",
    "    force_load_apogeeSF = True\n",
    "    force_load_statIndx = True\n",
    "    force_load_gaiadr2 = True\n",
    "##ie"
   ]
  },
  {
   "cell_type": "markdown",
   "metadata": {},
   "source": [
    "# Get the APOGEE statistical sample"
   ]
  },
  {
   "cell_type": "code",
   "execution_count": 7,
   "metadata": {},
   "outputs": [
    {
     "name": "stdout",
     "output_type": "stream",
     "text": [
      "Reading and parsing spectroscopic data; determining statistical sample ...      \r"
     ]
    },
    {
     "name": "stderr",
     "output_type": "stream",
     "text": [
      "100%|██████████| 76665/76665 [19:37<00:00, 65.10it/s]\n"
     ]
    },
    {
     "name": "stdout",
     "output_type": "stream",
     "text": [
      "/home/lane/software/apogee/apogee/tools/read.py:905: RuntimeWarning: overflow encountered in multiply\n",
      "  aj= data[aktag]*2.5\n",
      "\n",
      "/home/lane/software/apogee/apogee/tools/read.py:906: RuntimeWarning: overflow encountered in multiply\n",
      "  ah= data[aktag]*1.55\n",
      "\n",
      "/home/lane/software/apogee/apogee/select/apogeeSelect.py:1231: UserWarning: Removing plates not found in apogee2Plate...\n",
      "  warnings.warn('Removing plates not found in apogee2Plate...')\n",
      "\n",
      "Reading and parsing spectroscopic data; determining statistical sample ...      \r"
     ]
    },
    {
     "name": "stderr",
     "output_type": "stream",
     "text": [
      "100%|██████████| 99202/99202 [28:44<00:00, 57.53it/s]\n"
     ]
    },
    {
     "name": "stdout",
     "output_type": "stream",
     "text": [
      "/home/lane/software/apogee/apogee/select/apogeeSelect.py:1231: UserWarning: Removing plates not found in apogee2Plate...\n",
      "  warnings.warn('Removing plates not found in apogee2Plate...')\n",
      "\n",
      "Reading and parsing spectroscopic data; determining statistical sample ...      \r"
     ]
    },
    {
     "name": "stderr",
     "output_type": "stream",
     "text": [
      "100%|██████████| 43946/43946 [13:16<00:00, 55.20it/s]\n"
     ]
    },
    {
     "name": "stdout",
     "output_type": "stream",
     "text": [
      "                                                                                \r"
     ]
    },
    {
     "name": "stderr",
     "output_type": "stream",
     "text": [
      "100%|██████████| 261012/261012 [1:14:19<00:00, 58.53it/s]\n"
     ]
    }
   ],
   "source": [
    "# Get selection function\n",
    "if not force_load_apogeeSF and os.path.exists(apogeeSF_filename):\n",
    "    print('Loading pre-computed selection function from '+apogeeSF_filename)\n",
    "    with open(apogeeSF_filename, 'rb') as f:\n",
    "        apo = pickle.load(f)\n",
    "    ##wi\n",
    "else:\n",
    "    apo = apsel.apogeeCombinedSelect(year=apo_combined_select_year)\n",
    "    with open(apogeeSF_filename, 'wb') as f:\n",
    "        pickle.dump(apo,f)\n",
    "    ##wi\n",
    "    # Automatically force the rest\n",
    "    force_load_statIndx = True\n",
    "    force_load_gaiadr2 = True\n",
    "##ie\n",
    "\n",
    "# Make statistical sample\n",
    "if not force_load_statIndx and os.path.exists(statIndx_filename):\n",
    "    print('Loading pre-computed statistical sample from '+statIndx_filename)\n",
    "    statIndx = np.load(statIndx_filename)\n",
    "else:\n",
    "    statIndx = apo.determine_statistical(allstar)\n",
    "    np.save(statIndx_filename, statIndx)\n",
    "    # Automatically force the rest\n",
    "    force_load_gaiadr2 = True\n",
    "##ie"
   ]
  },
  {
   "cell_type": "markdown",
   "metadata": {},
   "source": [
    "## Get the Gaia DR2 data"
   ]
  },
  {
   "cell_type": "code",
   "execution_count": 8,
   "metadata": {},
   "outputs": [
    {
     "name": "stdout",
     "output_type": "stream",
     "text": [
      "Created TAP+ (v1.2.1) - Connection:                                             \n",
      "\tHost: gea.esac.esa.int\n",
      "\tUse HTTPS: True\n",
      "\tPort: 443\n",
      "\tSSL Port: 443\n",
      "Created TAP+ (v1.2.1) - Connection:\n",
      "\tHost: geadata.esac.esa.int\n",
      "\tUse HTTPS: True\n",
      "\tPort: 443\n",
      "\tSSL Port: 443\n",
      "INFO: Query finished. [astroquery.utils.tap.core]\n"
     ]
    }
   ],
   "source": [
    "if not force_load_gaiadr2 and os.path.exists(gaia2_data_filename)\\\n",
    "                          and os.path.exists(apogee_matches_filename):\n",
    "    gaia2_data = np.load(gaia2_data_filename)\n",
    "    matches_index = np.load(apogee_matches_filename)\n",
    "else:\n",
    "    gaia2_data, matches_indx = xmatch.cds(allstar[statIndx], \n",
    "                                             colRA='RA', colDec='DEC', \n",
    "                                             xcat='vizier:I/345/gaia2', \n",
    "                                             gaia_all_columns=True)\n",
    "    np.save(gaia2_data_filename, gaia2_data)\n",
    "    np.save(apogee_matches_filename, matches_indx)\n",
    "##ie"
   ]
  }
 ],
 "metadata": {
  "kernel_info": {
   "name": "python3"
  },
  "kernelspec": {
   "display_name": "Python 3",
   "language": "python",
   "name": "python3"
  },
  "language_info": {
   "codemirror_mode": {
    "name": "ipython",
    "version": 3
   },
   "file_extension": ".py",
   "mimetype": "text/x-python",
   "name": "python",
   "nbconvert_exporter": "python",
   "pygments_lexer": "ipython3",
   "version": "3.6.5"
  },
  "nteract": {
   "version": "0.22.0"
  }
 },
 "nbformat": 4,
 "nbformat_minor": 4
}
