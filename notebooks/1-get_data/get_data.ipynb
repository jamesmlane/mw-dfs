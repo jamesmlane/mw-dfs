{
 "cells": [
  {
   "cell_type": "code",
   "execution_count": null,
   "metadata": {},
   "outputs": [],
   "source": [
    "# ------------------------------------------------------------------------\n",
    "#\n",
    "# TITLE - get_data.ipynb\n",
    "# PROJECT - mw_dfs\n",
    "#\n",
    "# ------------------------------------------------------------------------\n",
    "#\n",
    "# Docstrings and metadata:\n",
    "'''get Gaia DR2 and APOGEE DR16 data\n",
    "\n",
    "data_dir change to general'''\n",
    "\n",
    "__author__ = \"James Lane\""
   ]
  },
  {
   "cell_type": "code",
   "execution_count": null,
   "metadata": {},
   "outputs": [],
   "source": [
    "### Imports\n",
    "import os\n",
    "import numpy as np\n",
    "import dill as pickle\n",
    "\n",
    "# Set APOGEE version for the package\n",
    "RESULTS_VERS = 'l33'\n",
    "# Year 7 is appropriate for DR16 (l33)\n",
    "apo_combined_select_year = 7\n",
    "os.environ['RESULTS_VERS'] = RESULTS_VERS\n",
    "\n",
    "# APOGEE, Gaia\n",
    "import apogee.tools.read as apread\n",
    "import apogee.select as apsel\n",
    "import apogee.tools as apotools\n",
    "from gaia_tools import xmatch"
   ]
  },
  {
   "cell_type": "code",
   "execution_count": null,
   "metadata": {},
   "outputs": [],
   "source": [
    "### Notebook setup\n",
    "%load_ext autoreload\n",
    "%autoreload 2"
   ]
  },
  {
   "cell_type": "code",
   "execution_count": null,
   "metadata": {},
   "outputs": [],
   "source": [
    "### Keywords\n",
    "\n",
    "# Force load different data products even they exist (overwrite them)?\n",
    "force_load_allstar = False\n",
    "force_load_apogeeSF = False\n",
    "force_load_statIndx = False\n",
    "force_load_gaiadr2 = False\n",
    "\n",
    "# Keywords for APOGEE allstar (see apread.allStar.__doc__)\n",
    "allstar_main = True # Only select stars in the main survey\n",
    "allstar_rmdups = True # Remove duplicates\n",
    "allstar_use_astroNN_abundances = False # replace ASPCAP w/ astroNN abundances\n",
    "allstar_use_astroNN_distances = True # Add in astroNN distances\n",
    "allstar_use_astroNN_ages = False # Add in astroNN ages"
   ]
  },
  {
   "cell_type": "code",
   "execution_count": null,
   "metadata": {},
   "outputs": [],
   "source": [
    "### Pathing\n",
    "\n",
    "# Outputs\n",
    "data_dir = '/geir_data/scr/lane/projects/mw-dfs/data/data_Sept_2021/gaia_apogee/'\n",
    "allstar_filename = data_dir+'allstar.npy'\n",
    "apogeeSF_filename = data_dir+'apogeeSF_'+RESULTS_VERS+'.dat'\n",
    "statIndx_filename = data_dir+'statIndx_'+RESULTS_VERS+'.npy'\n",
    "gaia2_data_filename = data_dir+'GDR2_'+RESULTS_VERS+'_data.npy'\n",
    "apogee_matches_filename = data_dir+'GDR2_'+RESULTS_VERS+'_apogee_matches.npy'"
   ]
  },
  {
   "cell_type": "markdown",
   "metadata": {},
   "source": [
    "# Get APOGEE Data"
   ]
  },
  {
   "cell_type": "code",
   "execution_count": null,
   "metadata": {},
   "outputs": [],
   "source": [
    "# Get data\n",
    "if not force_load_allstar and os.path.exists(allstar_filename):\n",
    "    print('Loading pre-computed allstar from '+allstar_filename)\n",
    "    allstar = np.load(allstar_filename)\n",
    "else:\n",
    "    print('Loading APOGEE from results version: '+RESULTS_VERS)\n",
    "    allstar = apread.allStar(main=allstar_main, rmdups=allstar_rmdups, \n",
    "        use_astroNN_abundances=allstar_use_astroNN_abundances,\n",
    "        use_astroNN_distances=allstar_use_astroNN_distances,\n",
    "        use_astroNN_ages=allstar_use_astroNN_ages)\n",
    "    print('Saving allstar as: '+allstar_filename)\n",
    "    np.save(allstar_filename, allstar)\n",
    "    # Automatically force the rest because you loaded a new allstar\n",
    "    force_load_apogeeSF = True\n",
    "    force_load_statIndx = True\n",
    "    force_load_gaiadr2 = True\n",
    "##ie"
   ]
  },
  {
   "cell_type": "markdown",
   "metadata": {},
   "source": [
    "# Get the APOGEE statistical sample"
   ]
  },
  {
   "cell_type": "code",
   "execution_count": null,
   "metadata": {},
   "outputs": [],
   "source": [
    "# Get selection function\n",
    "if not force_load_apogeeSF and os.path.exists(apogeeSF_filename):\n",
    "    print('Loading pre-computed selection function from '+apogeeSF_filename)\n",
    "    with open(apogeeSF_filename, 'rb') as f:\n",
    "        apo = pickle.load(f)\n",
    "    ##wi\n",
    "else:\n",
    "    apo = apsel.apogeeCombinedSelect(year=apo_combined_select_year)\n",
    "    with open(apogeeSF_filename, 'wb') as f:\n",
    "        pickle.dump(apo,f)\n",
    "    ##wi\n",
    "    # Automatically force the rest\n",
    "    force_load_statIndx = True\n",
    "    force_load_gaiadr2 = True\n",
    "##ie\n",
    "\n",
    "# Make statistical sample\n",
    "if not force_load_statIndx and os.path.exists(statIndx_filename):\n",
    "    print('Loading pre-computed statistical sample from '+statIndx_filename)\n",
    "    statIndx = np.load(statIndx_filename)\n",
    "else:\n",
    "    statIndx = apo.determine_statistical(allstar)\n",
    "    np.save(statIndx_filename, statIndx)\n",
    "    # Automatically force the rest\n",
    "    force_load_gaiadr2 = True\n",
    "##ie"
   ]
  },
  {
   "cell_type": "markdown",
   "metadata": {},
   "source": [
    "## Get the Gaia DR2 data"
   ]
  },
  {
   "cell_type": "code",
   "execution_count": null,
   "metadata": {},
   "outputs": [],
   "source": [
    "if not force_load_gaiadr2 and os.path.exists(gaia2_data_filename)\\\n",
    "                          and os.path.exists(apogee_matches_filename):\n",
    "    gaia2_data = np.load(gaia2_data_filename)\n",
    "    matches_index = np.load(apogee_matches_filename)\n",
    "else:\n",
    "    gaia2_data, matches_indx = xmatch.cds(allstar[statIndx], \n",
    "                                             colRA='RA', colDec='DEC', \n",
    "                                             xcat='vizier:I/345/gaia2', \n",
    "                                             gaia_all_columns=True)\n",
    "    np.save(gaia2_data_filename, gaia2_data)\n",
    "    np.save(apogee_matches_filename, matches_indx)\n",
    "##ie"
   ]
  }
 ],
 "metadata": {
  "kernel_info": {
   "name": "python3"
  },
  "kernelspec": {
   "display_name": "Python 3",
   "language": "python",
   "name": "python3"
  },
  "language_info": {
   "codemirror_mode": {
    "name": "ipython",
    "version": 3
   },
   "file_extension": ".py",
   "mimetype": "text/x-python",
   "name": "python",
   "nbconvert_exporter": "python",
   "pygments_lexer": "ipython3",
   "version": "3.6.5"
  },
  "nteract": {
   "version": "0.22.0"
  }
 },
 "nbformat": 4,
 "nbformat_minor": 4
}
