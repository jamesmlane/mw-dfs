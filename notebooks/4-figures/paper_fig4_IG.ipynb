{
 "cells": [
  {
   "cell_type": "code",
   "execution_count": 1,
   "metadata": {},
   "outputs": [],
   "source": [
    "# ------------------------------------------------------------------------\n",
    "#\n",
    "# TITLE - paper_fig4_IG.ipynb\n",
    "# AUTHOR - James Lane\n",
    "# PROJECT - mw-dfs\n",
    "#\n",
    "# ------------------------------------------------------------------------\n",
    "#\n",
    "# Docstrings and metadata:\n",
    "'''Make the figures for the inner galaxy augmented sample\n",
    "'''\n",
    "\n",
    "__author__ = \"James Lane\""
   ]
  },
  {
   "cell_type": "code",
   "execution_count": 3,
   "metadata": {},
   "outputs": [],
   "source": [
    "### Imports\n",
    "\n",
    "## Basic\n",
    "import numpy as np, pdb, sys, pickle\n",
    "import matplotlib.pyplot as plt\n",
    "import matplotlib\n",
    "from matplotlib import patches\n",
    "from matplotlib import gridspec\n",
    "from mpl_toolkits.axes_grid1.axes_divider import make_axes_locatable\n",
    "import astropy.units as apu\n",
    "\n",
    "## galpy\n",
    "from galpy import potential\n",
    "ro = 8.178 # Gravity 2019\n",
    "vo = 220\n",
    "zo = 0.0208 # Bennet + Bovy 2018\n",
    "\n",
    "sys.path.append('../../src/')\n",
    "from mw_dfs import plot as project_plot\n",
    "from mw_dfs import potential as project_potential\n",
    "\n",
    "# Setup colors\n",
    "project_colors = project_plot.colors()\n",
    "rainbow_cmap = project_colors.colourmap('rainbow')\n",
    "\n",
    "# Potential\n",
    "pot = project_potential.make_interpolated_mwpot(rmin=1e-3,rmax=1e3,ngrid=301,ro=ro,vo=vo,match_type='mass')"
   ]
  },
  {
   "cell_type": "code",
   "execution_count": 4,
   "metadata": {},
   "outputs": [],
   "source": [
    "### Notebook setup\n",
    "%matplotlib inline\n",
    "plt.style.use('../../src/mpl/project.mplstyle')\n",
    "%config InlineBackend.figure_format = 'retina'\n",
    "%load_ext autoreload\n",
    "%autoreload 2"
   ]
  },
  {
   "cell_type": "code",
   "execution_count": 7,
   "metadata": {},
   "outputs": [],
   "source": [
    "### Keywords\n",
    "seed = 7703\n",
    "oversample_factor_halo = 100\n",
    "\n",
    "# Directories\n",
    "fig_dir = './fig/'\n",
    "data_dir = '/geir_data/scr/lane/projects/mw-dfs/data/data_Sept_2021/df_samples/'\n",
    "\n",
    "# Figure sizing\n",
    "columnwidth = 240./72.27\n",
    "textwidth = 504.0/72.27\n",
    "\n",
    "# Plotting keywords\n",
    "scatter_s = 1.0\n",
    "scatter_alpha = 0.1\n",
    "scatter_zorder = 2\n",
    "scatter_color = 'DodgerBlue'\n",
    "label_fontsize = 9\n",
    "nbins = 50\n",
    "\n",
    "# Potential\n",
    "phi0 = potential.evaluatePotentials(pot,1e12,0).value"
   ]
  },
  {
   "cell_type": "markdown",
   "metadata": {},
   "source": [
    "# Load data"
   ]
  },
  {
   "cell_type": "code",
   "execution_count": 33,
   "metadata": {},
   "outputs": [],
   "source": [
    "with open(data_dir+'halo_orbits_survey_os_factor'+\\\n",
    "          str(oversample_factor_halo)+'.pkl','rb') as f:\n",
    "    halo_orbs_apo = pickle.load(f)\n",
    "##wi\n",
    "with open(data_dir+'halo_actions_survey_os_factor'+\\\n",
    "          str(oversample_factor_halo)+'.pkl','rb') as f:\n",
    "    halo_actions_apo = pickle.load(f)\n",
    "##wi\n",
    "with open(data_dir+'halo_eELzs_survey_os_factor'+\\\n",
    "          str(oversample_factor_halo)+'.pkl','rb') as f:\n",
    "    halo_eELzs_apo = pickle.load(f)\n",
    "##wi\n",
    "\n",
    "with open(data_dir+'halo_orbits_ig_survey_os_factor'+\\\n",
    "          str(oversample_factor_halo)+'.pkl','rb') as f:\n",
    "    ig_halo_orbs_apo = pickle.load(f)\n",
    "##wi\n",
    "with open(data_dir+'halo_actions_ig_survey_os_factor'+\\\n",
    "          str(oversample_factor_halo)+'.pkl','rb') as f:\n",
    "    ig_halo_actions_apo = pickle.load(f)\n",
    "##wi\n",
    "with open(data_dir+'halo_eELzs_ig_survey_os_factor'+\\\n",
    "          str(oversample_factor_halo)+'.pkl','rb') as f:\n",
    "    ig_halo_eELzs_apo = pickle.load(f)\n",
    "##wi\n",
    "\n",
    "# Undo the oversampling\n",
    "for i in range(len(halo_orbs_apo)):\n",
    "    halo_orbs_apo[i] = halo_orbs_apo[i][::100]\n",
    "    halo_actions_apo[i] = halo_actions_apo[i][:,::100]\n",
    "    halo_eELzs_apo[i] = halo_eELzs_apo[i][:,::100]\n",
    "    \n",
    "    ig_halo_orbs_apo[i] = ig_halo_orbs_apo[i][::100]\n",
    "    ig_halo_actions_apo[i] = ig_halo_actions_apo[i][:,::100]\n",
    "    ig_halo_eELzs_apo[i] = ig_halo_eELzs_apo[i][:,::100]"
   ]
  },
  {
   "cell_type": "code",
   "execution_count": 34,
   "metadata": {},
   "outputs": [
    {
     "name": "stdout",
     "output_type": "stream",
     "text": [
      "2198\n",
      "497\n"
     ]
    }
   ],
   "source": [
    "# Turn into lists for parsing\n",
    "n_orbs_halo = len(halo_orbs_apo[0])\n",
    "n_orbs_halo_ig = len(ig_halo_orbs_apo[0])\n",
    "print(n_orbs_halo)\n",
    "print(n_orbs_halo_ig)"
   ]
  },
  {
   "cell_type": "code",
   "execution_count": 35,
   "metadata": {},
   "outputs": [],
   "source": [
    "# Different halo mixtures that will be plotted\n",
    "halo_mixture_arr_apo = np.array([[1.0 ,0   ,0   ,0   ,0  ], # 100% ergodic\n",
    "                                 [0   ,0.5 ,0   ,0   ,0  ], # beta = -0.5\n",
    "                                 [0   ,0   ,0.5 ,0   ,0  ], # beta = 0.5\n",
    "                                 [0   ,0   ,0   ,0.5 ,0  ], # beta = 0.7\n",
    "                                 [0   ,0   ,0   ,0   ,0.5], # beta = 0.9\n",
    "                                 [0   ,0   ,0.5 ,0   ,0.5], # Standard model\n",
    "                                ])\n",
    "n_mix = len(halo_mixture_arr_apo)\n",
    "\n",
    "mixture_text = [r'ergodic',\n",
    "                r'$\\beta=-0.5$',\n",
    "                r'$\\beta=0.5$',\n",
    "                r'$\\beta=0.7$',\n",
    "                r'$\\beta=0.9$',\n",
    "                r'fiducial',\n",
    "               ]"
   ]
  },
  {
   "cell_type": "code",
   "execution_count": 36,
   "metadata": {},
   "outputs": [],
   "source": [
    "kin_spaces = ['ELz',]\n",
    "\n",
    "# Labels dictionary. [xlabel, ylabel]\n",
    "labels_dict = {'ELz':    [r'$L_{z}$',r'$(E-\\Phi_{0})/10^{5}$'],\n",
    "               }\n",
    "\n",
    "# Limits dictionary. [ [xmin,xmax], [ymin,ymax] ]\n",
    "lims_dict = {'ELz':    [[-4500,4500], [-2.,-0.]],\n",
    "            }"
   ]
  },
  {
   "cell_type": "code",
   "execution_count": 37,
   "metadata": {},
   "outputs": [],
   "source": [
    "# E-Lz boundary\n",
    "ELz_bound_rs = np.array([3.5,6,8])*apu.kpc\n",
    "ELz_bound_Lz_facs = np.array([200,200,200])*apu.kpc"
   ]
  },
  {
   "cell_type": "markdown",
   "metadata": {},
   "source": [
    "## Distribution of radii"
   ]
  },
  {
   "cell_type": "code",
   "execution_count": 40,
   "metadata": {},
   "outputs": [
    {
     "name": "stdout",
     "output_type": "stream",
     "text": [
      "../../src/mw_dfs/plot.py:72: UserWarning: Warning, absolute=False. Not using absolute mixture array fractions!\n",
      "  warnings.warn('Warning, absolute=False. Not using absolute mixture array fractions!')\n",
      "\n",
      "/usr/local/lib/python3.6/site-packages/matplotlib/figure.py:459: UserWarning: matplotlib is currently using a non-GUI backend, so cannot show the figure\n",
      "  \"matplotlib is currently using a non-GUI backend, \"\n",
      "\n"
     ]
    },
    {
     "data": {
      "image/png": "[encoded data removed]",
      "text/plain": [
       "<Figure size 239.103x324 with 3 Axes>"
      ]
     },
     "metadata": {
      "image/png": {
       "height": 306,
       "width": 225
      }
     },
     "output_type": "display_data"
    }
   ],
   "source": [
    "fig = plt.figure()\n",
    "fig.set_size_inches(columnwidth,4.5)\n",
    "gs = gridspec.GridSpec(nrows=5,ncols=5)\n",
    "ax1 = fig.add_subplot(gs[:2,:])\n",
    "ax2 = fig.add_subplot(gs[2:,:4])\n",
    "ax3 = fig.add_subplot(gs[2:,4])\n",
    "\n",
    "halo_rs_apo = halo_orbs_apo[0].r().value\n",
    "ig_halo_rs_apo = ig_halo_orbs_apo[0].r().value\n",
    "\n",
    "ax1.hist(halo_rs_apo, range=(0,25), bins=25, histtype='step', color='DodgerBlue', linewidth=1.5,\n",
    "        zorder=4, label='Survey sample')\n",
    "ax1.hist(ig_halo_rs_apo, range=(0,25), bins=25, histtype='step', color='Red', linewidth=1.5, \n",
    "        zorder=5, label=r'Towards bulge')\n",
    "ax1.hist(np.concatenate((ig_halo_rs_apo,halo_rs_apo)), range=(0,25), bins=25, histtype='step', \n",
    "        color='Black', linewidth=2.5, zorder=3, label='Total')\n",
    "for i in range(len(ELz_bound_rs)):\n",
    "    ax1.axvline(ELz_bound_rs[i].value, color='Grey', linestyle='dashed', alpha=1., zorder=6)\n",
    "###i\n",
    "\n",
    "ax1.set_xlim(0,25)\n",
    "ax1.set_xlabel('$r$ [kpc]', fontsize=label_fontsize)\n",
    "ax1.set_ylabel('N', fontsize=label_fontsize)\n",
    "ax1.tick_params(axis='both', labelsize=label_fontsize)\n",
    "ax1.legend(loc='upper right', fontsize=8)\n",
    "\n",
    "xlim,ylim = lims_dict['ELz']\n",
    "xlabel,ylabel = labels_dict['ELz']\n",
    "\n",
    "xplot,yplot = project_plot.get_plottable_data( halo_orbs_apo, \n",
    "    halo_eELzs_apo, halo_actions_apo, \n",
    "    np.array([0.6,0.0,0.0,0.2,0.2]), 'ELz', phi0=phi0, seed=seed)\n",
    "xplot_ig,yplot_ig = project_plot.get_plottable_data( ig_halo_orbs_apo, \n",
    "    ig_halo_eELzs_apo, ig_halo_actions_apo, \n",
    "    np.array([0.6,0.0,0.0,0.2,0.2]), 'ELz', phi0=phi0, seed=seed)\n",
    "xplot_all = np.concatenate((xplot,xplot_ig))\n",
    "yplot_all = np.concatenate((yplot,yplot_ig))\n",
    "\n",
    "ax2.scatter(xplot_all, yplot_all, s=4, alpha=0.07, \n",
    "           facecolor='Black', edgecolor='None', zorder=2, \n",
    "           rasterized=True)\n",
    "ELz_kws = {'linewidth':1.5, 'color':'Black', 'alpha':0.4, 'zorder':3}\n",
    "project_plot.add_ELz_boundary(ax2, pot, ELz_bound_rs, np.array([150,150,200]), \n",
    "    z=False, E_scale=1e5, phi0=phi0, plot_kws=ELz_kws, ro=ro)\n",
    "\n",
    "ax2.set_xlim(xlim)\n",
    "ax2.set_ylim(ylim)\n",
    "ax2.set_xlabel('$L_{z}$ [kpc km s$^{-1}$]', fontsize=label_fontsize)\n",
    "ax2.set_ylabel('($E-\\Phi_{0}$)/10$^{5}$ [km$^{2}$ s$^{-2}$]', fontsize=label_fontsize)\n",
    "ax2.tick_params(axis='both', labelsize=label_fontsize)\n",
    "\n",
    "ax3.hist(yplot_all, orientation='horizontal', bins=40, edgecolor='Black', histtype='step', \n",
    "         range=(-2,0))\n",
    "ax3.tick_params(labelleft=False)\n",
    "ax3.tick_params(axis='x', labelsize=label_fontsize)\n",
    "ax3.set_xlabel('N', fontsize=label_fontsize)\n",
    "ax3.set_xlim(0,400)\n",
    "ax3.set_ylim(ylim)\n",
    "\n",
    "fig.tight_layout()\n",
    "fig.subplots_adjust(hspace=1.1,wspace=0.2)\n",
    "fig.savefig('fig/APOGEEHaloRadialBias.pdf', rasterized=True, dpi=300)\n",
    "fig.show()"
   ]
  },
  {
   "cell_type": "code",
   "execution_count": null,
   "metadata": {},
   "outputs": [],
   "source": [
    "# Specific keywords\n",
    "this_scatter_alpha = 2*scatter_alpha\n",
    "this_scatter_s = 1*scatter_s\n",
    "ELz_kws = {'linewidth':0.5, 'color':'Black', 'alpha':0.75, 'zorder':3}\n",
    "\n",
    "# Figure\n",
    "fig = plt.figure()\n",
    "fig.set_size_inches(1.5*textwidth,0.7*textwidth)\n",
    "axs = fig.subplots(nrows=3, ncols=n_mix)\n",
    "\n",
    "for i in range(3):\n",
    "    \n",
    "    # Limits and labels\n",
    "    xlim,ylim = lims_dict[kin_spaces[0]]\n",
    "    xlabel,ylabel = labels_dict[kin_spaces[0]]\n",
    "    xbinsize = (xlim[1]-xlim[0])/nbins\n",
    "    ybinsize = (ylim[1]-ylim[0])/nbins\n",
    "    \n",
    "    for j in range( n_mix ):\n",
    "        \n",
    "        # Plot\n",
    "        xplot,yplot = project_plot.get_plottable_data( halo_orbs_apo, \n",
    "            halo_eELzs_apo, halo_actions_apo, \n",
    "            halo_mixture_arr_apo[j], kin_spaces[0], phi0=phi0, seed=seed)\n",
    "        xplot_ig,yplot_ig = project_plot.get_plottable_data( ig_halo_orbs_apo, \n",
    "            ig_halo_eELzs_apo, ig_halo_actions_apo, \n",
    "            halo_mixture_arr_apo[j], kin_spaces[0], phi0=phi0, seed=seed)\n",
    "        if i in [0,2]:\n",
    "            axs[i,j].scatter(xplot, yplot, s=this_scatter_s, alpha=this_scatter_alpha, \n",
    "                facecolor=scatter_color, edgecolor='None', zorder=scatter_zorder, \n",
    "                rasterized=True)\n",
    "        if i in [1,2]:\n",
    "            axs[i,j].scatter(xplot_ig, yplot_ig, s=this_scatter_s, alpha=this_scatter_alpha, \n",
    "                facecolor=scatter_color, edgecolor='None', zorder=scatter_zorder, \n",
    "                rasterized=True)\n",
    "        \n",
    "        # Decoration\n",
    "        project_plot.axis_limits_and_labels(axs[i,j], xlim, ylim, xlabel, ylabel, mixture_text[j],\n",
    "            is_left_edge=j==0, is_top_edge=i==0, label_fontsize=label_fontsize)\n",
    "        project_plot.add_ELz_boundary(axs[i,j], pot, ELz_bound_rs, ELz_bound_Lz_facs, z=False, \n",
    "                                       E_scale=1e5, phi0=phi0, plot_kws=ELz_kws)\n",
    "    ###j\n",
    "###i\n",
    "\n",
    "fig.tight_layout()\n",
    "fig.subplots_adjust(wspace=0.1)\n",
    "fig.show()"
   ]
  },
  {
   "cell_type": "code",
   "execution_count": null,
   "metadata": {},
   "outputs": [],
   "source": []
  }
 ],
 "metadata": {
  "kernel_info": {
   "name": "python3"
  },
  "kernelspec": {
   "display_name": "Python 3",
   "language": "python",
   "name": "python3"
  },
  "language_info": {
   "codemirror_mode": {
    "name": "ipython",
    "version": 3
   },
   "file_extension": ".py",
   "mimetype": "text/x-python",
   "name": "python",
   "nbconvert_exporter": "python",
   "pygments_lexer": "ipython3",
   "version": "3.6.5"
  },
  "nteract": {
   "version": "0.15.0"
  }
 },
 "nbformat": 4,
 "nbformat_minor": 4
}
