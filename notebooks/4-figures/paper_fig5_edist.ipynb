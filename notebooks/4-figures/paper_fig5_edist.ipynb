{
 "cells": [
  {
   "cell_type": "code",
   "execution_count": null,
   "metadata": {},
   "outputs": [],
   "source": [
    "# ------------------------------------------------------------------------\n",
    "#\n",
    "# TITLE - paper_fig5_edist.ipynb\n",
    "# AUTHOR - James Lane\n",
    "# PROJECT - mw-dfs\n",
    "#\n",
    "# ------------------------------------------------------------------------\n",
    "#\n",
    "# Docstrings and metadata:\n",
    "'''Make the DF paper figures that have to do with eccentricity distributions\n",
    "'''\n",
    "\n",
    "__author__ = \"James Lane\""
   ]
  },
  {
   "cell_type": "code",
   "execution_count": 2,
   "metadata": {},
   "outputs": [],
   "source": [
    "### Imports\n",
    "\n",
    "## Basic\n",
    "import numpy as np, pdb, sys, pickle\n",
    "import matplotlib.pyplot as plt\n",
    "import matplotlib\n",
    "from matplotlib import gridspec\n",
    "import astropy.units as apu\n",
    "\n",
    "## galpy\n",
    "from galpy import potential\n",
    "ro = 8.178 # Gravity 2019\n",
    "vo = 220\n",
    "zo = 0.0208 # Bennet + Bovy 2018\n",
    "\n",
    "sys.path.append('../../src/')\n",
    "from mw_dfs import plot as project_plot\n",
    "from mw_dfs import potential as project_potential\n",
    "\n",
    "# Setup colors\n",
    "project_colors = project_plot.colors()\n",
    "rainbow_cmap = project_colors.colourmap('rainbow')\n",
    "\n",
    "# Potential\n",
    "pot = potential.MWPotential2014\n",
    "potential.turn_physical_on(pot,ro=ro,vo=vo)"
   ]
  },
  {
   "cell_type": "code",
   "execution_count": 3,
   "metadata": {},
   "outputs": [],
   "source": [
    "### Notebook setup\n",
    "%matplotlib inline\n",
    "plt.style.use('../../src/mpl/project.mplstyle')\n",
    "%config InlineBackend.figure_format = 'retina'\n",
    "%load_ext autoreload\n",
    "%autoreload 2"
   ]
  },
  {
   "cell_type": "code",
   "execution_count": 4,
   "metadata": {},
   "outputs": [],
   "source": [
    "### Keywords\n",
    "\n",
    "# Directories\n",
    "fig_dir = './fig/'\n",
    "data_dir = '/geir_data/scr/lane/projects/mw-dfs/data/data_Sept_2021/df_samples/'\n",
    "\n",
    "# Figure sizing\n",
    "columnwidth = 240./72.27\n",
    "textwidth = 504.0/72.27\n",
    "\n",
    "# Plotting keywords\n",
    "label_fontsize = 9\n",
    "\n",
    "# E-Lz boundary\n",
    "ELz_bound_rs = np.array([3,6,8])*apu.kpc\n",
    "\n",
    "# Potential\n",
    "phi0 = potential.evaluatePotentials(pot,1e12,0).value"
   ]
  },
  {
   "cell_type": "markdown",
   "metadata": {},
   "source": [
    "# Load data"
   ]
  },
  {
   "cell_type": "code",
   "execution_count": 5,
   "metadata": {},
   "outputs": [],
   "source": [
    "# Oversampling factor\n",
    "halo_oversample_factor = 100\n",
    "disk_oversample_factor = 10\n",
    "\n",
    "with open(data_dir+'halo_orbits_survey_os_factor'+str(halo_oversample_factor)+'.pkl','rb') as f:\n",
    "    halo_orbs_apo = pickle.load(f)\n",
    "##wi\n",
    "with open(data_dir+'halo_actions_survey_os_factor'+str(halo_oversample_factor)+'.pkl','rb') as f:\n",
    "    halo_actions_apo = pickle.load(f)\n",
    "##wi\n",
    "with open(data_dir+'halo_eELzs_survey_os_factor'+str(halo_oversample_factor)+'.pkl','rb') as f:\n",
    "    halo_eELzs_apo = pickle.load(f)\n",
    "##wi\n",
    "\n",
    "with open(data_dir+'disk_orbits_survey_os_factor'+str(disk_oversample_factor)+'.pkl','rb') as f:\n",
    "    disk_orbs_apo = pickle.load(f)\n",
    "##wi\n",
    "with open(data_dir+'disk_actions_survey_os_factor'+str(disk_oversample_factor)+'.pkl','rb') as f:\n",
    "    disk_actions_apo = pickle.load(f)\n",
    "##wi\n",
    "with open(data_dir+'disk_eELzs_survey_os_factor'+str(disk_oversample_factor)+'.pkl','rb') as f:\n",
    "    disk_eELzs_apo = pickle.load(f)\n",
    "##wi"
   ]
  },
  {
   "cell_type": "code",
   "execution_count": 6,
   "metadata": {},
   "outputs": [],
   "source": [
    "# Turn into lists for parsing\n",
    "n_orbs_thin = len(disk_orbs_apo[0])\n",
    "n_orbs_thick = len(disk_orbs_apo[1])\n",
    "n_orbs_halo = len(halo_orbs_apo[0])\n",
    "\n",
    "# Order is: betas [0, -0.5, 0.5, 0.7, 0.9] then thin disk, thick disk\n",
    "orbs_all_apo = [halo_orbs_apo[0],halo_orbs_apo[1],halo_orbs_apo[2],halo_orbs_apo[3],halo_orbs_apo[4],\n",
    "                disk_orbs_apo[0],disk_orbs_apo[1]]\n",
    "eELzs_all_apo = [halo_eELzs_apo[0],halo_eELzs_apo[1],halo_eELzs_apo[2],halo_eELzs_apo[3],halo_eELzs_apo[4],\n",
    "                 disk_eELzs_apo[0],disk_eELzs_apo[1]]\n",
    "actions_all_apo = [halo_actions_apo[0],halo_actions_apo[1],halo_actions_apo[2],halo_actions_apo[3],halo_actions_apo[4],\n",
    "                   disk_actions_apo[0],disk_actions_apo[1]]\n",
    "\n",
    "isDisk = [False,False,False,False,False,True,True]"
   ]
  },
  {
   "cell_type": "code",
   "execution_count": 7,
   "metadata": {},
   "outputs": [
    {
     "name": "stdout",
     "output_type": "stream",
     "text": [
      "1248790\n",
      "235430\n",
      "219800\n"
     ]
    }
   ],
   "source": [
    "print(n_orbs_thin)\n",
    "print(n_orbs_thick)\n",
    "print(n_orbs_halo)\n",
    "#assert n_orbs_thin+n_orbs_thick+n_orbs_halo == len(os_all)"
   ]
  },
  {
   "cell_type": "code",
   "execution_count": 8,
   "metadata": {},
   "outputs": [],
   "source": [
    "# Different halo mixtures that will be plotted\n",
    "\n",
    "# Ratio of thin to thick disk stars is ~1/8.5\n",
    "disk_mixture_arr = np.array([1.0, 1.0/8.5])\n",
    "\n",
    "halo_mixture_arr_apo = np.array([[1.0 ,0   ,0   ,0   ,0  ], # 100% ergodic\n",
    "                                 [0   ,0.5 ,0   ,0   ,0  ], # beta = -0.5\n",
    "                                 [0   ,0   ,0.5 ,0   ,0  ], # beta = 0.5\n",
    "                                 [0   ,0   ,0   ,0.5 ,0  ], # beta = 0.7\n",
    "                                 [0   ,0   ,0   ,0   ,0.5], # beta = 0.9\n",
    "                                 [0   ,0   ,0.5 ,0   ,0.5], # Standard model\n",
    "                                ])\n",
    "\n",
    "# For APOGEE just use all thin and thick disc stars\n",
    "\n",
    "mixture_text = [r'ergodic',\n",
    "                r'$\\beta=-0.5$',\n",
    "                r'$\\beta=0.5$',\n",
    "                r'$\\beta=0.7$',\n",
    "                r'$\\beta=0.9$',\n",
    "                r'fiducial',\n",
    "               ]\n",
    "\n",
    "mixture_text_apo = [r'100\\% erg.',\n",
    "                    r'100\\% $\\beta=-0.5$',\n",
    "                    r'100\\% $\\beta=0.5$',\n",
    "                    r'100\\% $\\beta=0.7$',\n",
    "                    r'100\\% $\\beta=0.9$',\n",
    "                    r'60\\% erg. / 20\\% $\\beta=0.7$ / 20\\% $\\beta=0.9$',\n",
    "                   ]\n",
    "\n",
    "seed = 7703"
   ]
  },
  {
   "cell_type": "markdown",
   "metadata": {},
   "source": [
    "## The distribution of eccentricities for each halo sample"
   ]
  },
  {
   "cell_type": "code",
   "execution_count": 9,
   "metadata": {},
   "outputs": [
    {
     "name": "stdout",
     "output_type": "stream",
     "text": [
      "/usr/local/lib/python3.6/site-packages/numpy/lib/histograms.py:824: RuntimeWarning: invalid value encountered in greater_equal\n",
      "  keep = (tmp_a >= first_edge)\n",
      "\n",
      "/usr/local/lib/python3.6/site-packages/numpy/lib/histograms.py:825: RuntimeWarning: invalid value encountered in less_equal\n",
      "  keep &= (tmp_a <= last_edge)\n",
      "\n",
      "/usr/local/lib/python3.6/site-packages/ipykernel_launcher.py:28: RuntimeWarning: invalid value encountered in greater\n",
      "\n",
      "/usr/local/lib/python3.6/site-packages/ipykernel_launcher.py:29: RuntimeWarning: invalid value encountered in greater\n",
      "\n",
      "/usr/local/lib/python3.6/site-packages/matplotlib/figure.py:459: UserWarning: matplotlib is currently using a non-GUI backend, so cannot show the figure\n",
      "  \"matplotlib is currently using a non-GUI backend, \"\n",
      "\n"
     ]
    },
    {
     "data": {
      "image/png": "[encoded data removed]",
      "text/plain": [
       "<Figure size 239.103x288 with 2 Axes>"
      ]
     },
     "metadata": {
      "image/png": {
       "height": 270,
       "width": 221
      }
     },
     "output_type": "display_data"
    }
   ],
   "source": [
    "fig = plt.figure()\n",
    "fig.set_size_inches(columnwidth,4)\n",
    "gs = gridspec.GridSpec(nrows=5,ncols=1)\n",
    "\n",
    "ax1 = fig.add_subplot(gs[:3,0])\n",
    "ax2 = fig.add_subplot(gs[3:,0])\n",
    "\n",
    "n_mix = len(halo_mixture_arr_apo)\n",
    "mixture_colors = ['Red','DarkOrange','DarkGreen','DodgerBlue','Navy','Black']\n",
    "mixture_labels = [r'$\\beta=-0.5$','ergodic',r'$\\beta=0.5$',r'$\\beta=0.7$',r'$\\beta=0.9$','fiducial']\n",
    "n_in_e07 = []\n",
    "n_in_e09 = []\n",
    "for i in range(n_mix):\n",
    "    if i == 0:\n",
    "        halo_eELz_mixture = project_plot.parse_mixture(eELzs_all_apo[:5], halo_mixture_arr_apo[1])\n",
    "    elif i == 1:\n",
    "        halo_eELz_mixture = project_plot.parse_mixture(eELzs_all_apo[:5], halo_mixture_arr_apo[0])\n",
    "    else:\n",
    "        halo_eELz_mixture = project_plot.parse_mixture(eELzs_all_apo[:5], halo_mixture_arr_apo[i])\n",
    "    ##ie\n",
    "    ecc = np.array([])\n",
    "    for j in range(len(halo_eELz_mixture)):\n",
    "        ecc = np.append(ecc,halo_eELz_mixture[j][0])\n",
    "    hist,edges = np.histogram(ecc, range=(0,1.), bins=12, density=True)\n",
    "    cents = (edges[1:]+edges[:-1])/2\n",
    "    ax1.plot(cents, np.log10(hist), color=mixture_colors[i], linewidth=1.5, alpha=1., \n",
    "            label=mixture_labels[i])\n",
    "    n_in_e07.append(np.sum(ecc>0.7))\n",
    "    n_in_e09.append(np.sum(ecc>0.95))\n",
    "    \n",
    "ax1.set_xlim(0,1)\n",
    "ax1.set_ylim(-2.2,1.2)\n",
    "ax1.axvline(0.7, linestyle='dashed', color='Black')\n",
    "ax1.set_xlabel('eccentricity', fontsize=label_fontsize)\n",
    "ax1.set_ylabel(r'log$_{10}$ Density', fontsize=label_fontsize)\n",
    "ax1.tick_params(axis='both', labelsize=label_fontsize)\n",
    "ax1.legend(loc='upper left', fontsize=7, ncol=2, columnspacing=1.0, handlelength=1., labelspacing=0.15)\n",
    "\n",
    "ecc_GE = np.arange(0.5,1.0,0.01)\n",
    "n_samples = 100\n",
    "n_in_GE = np.zeros((3,len(ecc_GE),n_samples)) # Numbers adjusted for the 60:20:20 fiducial model split\n",
    "fid_inds = np.array([ [0,0,0.5,0,0], [0,0,0,0,0.5] ])\n",
    "fid_fracs = [0.5,0.5]\n",
    "n_samps = len(eELzs_all_apo[0][0])\n",
    "\n",
    "for i in range(n_samples):\n",
    "    for j in range(len(fid_inds)):\n",
    "        halo_eELz_mixture = project_plot.parse_mixture(eELzs_all_apo[:5], fid_inds[j], seed=seed, \n",
    "                                                       absolute=True)\n",
    "        eccs = halo_eELz_mixture[0][0]\n",
    "        eccs[np.isnan(eccs)] = np.ones(np.sum(np.isnan(eccs)))\n",
    "        for k in range(len(ecc_GE)):\n",
    "            n_in_GE[j,k,i] = np.sum(eccs>ecc_GE[k])\n",
    "        ###k\n",
    "    ###j\n",
    "###i\n",
    "\n",
    "GE_completeness = (n_in_GE[1]) / (n_samps*(fid_fracs[1]))\n",
    "GE_purity = (n_in_GE[1]) / np.sum(n_in_GE,axis=0)\n",
    "GE_completeness_mean = np.mean(GE_completeness, axis=1)\n",
    "GE_completeness_std = np.std(GE_completeness, axis=1)\n",
    "GE_purity_mean = np.mean(GE_purity, axis=1)\n",
    "GE_purity_std = np.std(GE_purity, axis=1)\n",
    "\n",
    "# ax2.plot(ecc_GE, GE_completeness_mean, color='Black', linestyle='dotted', label='Completeness', linewidth=1.0)\n",
    "# ax2.plot(ecc_GE, GE_completeness_mean+GE_completeness_std, color='Black', linestyle='solid', linewidth=0.25)\n",
    "# ax2.plot(ecc_GE, GE_completeness_mean-GE_completeness_std, color='Black', linestyle='solid', linewidth=0.25)\n",
    "# ax2.plot(ecc_GE, GE_purity_mean, color='Black', linestyle='solid', label='Purity')\n",
    "# ax2.plot(ecc_GE, GE_purity_mean+GE_purity_std, color='Black', linestyle='solid', linewidth=0.25)\n",
    "# ax2.plot(ecc_GE, GE_purity_mean-GE_purity_std, color='Black', linestyle='solid', linewidth=0.25)\n",
    "# ax2.fill_between( ecc_GE, GE_completeness_mean-GE_completeness_std, \n",
    "#                           GE_completeness_mean+GE_completeness_std, alpha=0.25, color='Black')\n",
    "# ax2.fill_between( ecc_GE, GE_purity_mean-GE_purity_std, \n",
    "#                           GE_purity_mean+GE_purity_std, alpha=0.25, color='Black')\n",
    "\n",
    "ax2.plot(ecc_GE, GE_completeness_mean, color='Black', linestyle='dotted', label='Completeness')\n",
    "ax2.plot(ecc_GE, GE_purity_mean, color='Black', linestyle='solid', label='Purity')\n",
    "\n",
    "ax2.set_xlim(0.475,1.025)\n",
    "ax2.set_ylim(0.1,1)\n",
    "ax2.set_xlabel(r'High-$\\beta$ eccentricity boundary', fontsize=label_fontsize)\n",
    "ax2.set_ylabel(r'Fraction', fontsize=label_fontsize)\n",
    "ax2.tick_params(axis='both', labelsize=label_fontsize)\n",
    "ax2.legend(loc='lower center', fontsize=7, handlelength=2.25, labelspacing=0.1)\n",
    "\n",
    "fig.tight_layout()\n",
    "fig.subplots_adjust(hspace=1.)\n",
    "fig.savefig('fig/APOGEEHaloEccentricityDistribution.pdf')\n",
    "fig.show()"
   ]
  },
  {
   "cell_type": "code",
   "execution_count": 12,
   "metadata": {},
   "outputs": [
    {
     "name": "stdout",
     "output_type": "stream",
     "text": [
      "Eccentricity limit: 0.7\n",
      "Actual limit: 0.7\n",
      "Completeness = 0.91\n",
      "Purity = 0.59\n",
      "\n",
      "Eccentricity limit: 0.9\n",
      "Actual limit: 0.9\n",
      "Completeness = 0.79\n",
      "Purity = 0.7\n",
      "\n",
      "Eccentricity limit: 0.99\n",
      "Actual limit: 0.99\n",
      "Completeness = 0.49\n",
      "Purity = 0.88\n",
      "\n"
     ]
    }
   ],
   "source": [
    "print_eccs = [0.7,0.9,0.99]\n",
    "for i in range(len(print_eccs)):\n",
    "    where_ecc = np.argmin( np.abs(ecc_GE-print_eccs[i]) )\n",
    "    print('Eccentricity limit: '+str(print_eccs[i]))\n",
    "    print('Actual limit: '+str(round(ecc_GE[where_ecc],2)))\n",
    "    print('Completeness = '+str(round(GE_completeness_mean[where_ecc],2)))\n",
    "    print('Purity = '+str(round(GE_purity_mean[where_ecc],2))+'\\n')\n",
    "###i"
   ]
  },
  {
   "cell_type": "code",
   "execution_count": null,
   "metadata": {},
   "outputs": [],
   "source": []
  }
 ],
 "metadata": {
  "kernel_info": {
   "name": "python3"
  },
  "kernelspec": {
   "display_name": "Python 3",
   "language": "python",
   "name": "python3"
  },
  "language_info": {
   "codemirror_mode": {
    "name": "ipython",
    "version": 3
   },
   "file_extension": ".py",
   "mimetype": "text/x-python",
   "name": "python",
   "nbconvert_exporter": "python",
   "pygments_lexer": "ipython3",
   "version": "3.6.5"
  },
  "nteract": {
   "version": "0.15.0"
  }
 },
 "nbformat": 4,
 "nbformat_minor": 4
}
