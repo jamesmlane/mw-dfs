{
 "cells": [
  {
   "cell_type": "code",
   "execution_count": null,
   "metadata": {},
   "outputs": [],
   "source": [
    "# ------------------------------------------------------------------------\n",
    "#\n",
    "# TITLE - paper_fig1_data.ipynb\n",
    "# AUTHOR - James Lane\n",
    "# PROJECT - mw-dfs\n",
    "#\n",
    "# ------------------------------------------------------------------------\n",
    "#\n",
    "# Docstrings and metadata:\n",
    "'''Make the final DF paper figures that have to do with basic data\n",
    "'''\n",
    "\n",
    "__author__ = \"James Lane\""
   ]
  },
  {
   "cell_type": "code",
   "execution_count": null,
   "metadata": {},
   "outputs": [],
   "source": [
    "### Imports\n",
    "\n",
    "## Basic\n",
    "import numpy as np, pdb, sys \n",
    "import dill as pickle\n",
    "import matplotlib.pyplot as plt\n",
    "import matplotlib\n",
    "from mpl_toolkits.axes_grid1.axes_divider import make_axes_locatable\n",
    "import astropy.units as apu\n",
    "\n",
    "## galpy scale\n",
    "ro = 8.178 # Gravity 2019\n",
    "vo = 220\n",
    "zo = 0.0208 # Bennet + Bovy 2018\n",
    "\n",
    "sys.path.append('../../src/')\n",
    "from mw_dfs import plot as project_plot\n",
    "\n",
    "# Setup colors\n",
    "project_colors = project_plot.colors()\n",
    "rainbow_cmap = project_colors.colourmap('rainbow')"
   ]
  },
  {
   "cell_type": "code",
   "execution_count": null,
   "metadata": {},
   "outputs": [],
   "source": [
    "### Notebook setup\n",
    "%matplotlib inline\n",
    "plt.style.use('../../src/mpl/project.mplstyle')\n",
    "%config InlineBackend.figure_format = 'retina'\n",
    "%load_ext autoreload\n",
    "%autoreload 2"
   ]
  },
  {
   "cell_type": "code",
   "execution_count": null,
   "metadata": {},
   "outputs": [],
   "source": [
    "### Keywords\n",
    "\n",
    "# Directories\n",
    "fig_dir = './fig/'\n",
    "data_dir = '/geir_data/scr/lane/projects/mw-dfs/data/data_Sept_2021/gaia_apogee_processed/'\n",
    "\n",
    "# Figure sizing\n",
    "columnwidth = 240./72.27\n",
    "textwidth = 504.0/72.27"
   ]
  },
  {
   "cell_type": "markdown",
   "metadata": {},
   "source": [
    "# Load data"
   ]
  },
  {
   "cell_type": "code",
   "execution_count": null,
   "metadata": {},
   "outputs": [],
   "source": [
    "## Load Gaia DR2, APOGEE allstar, \n",
    "\n",
    "# Halo\n",
    "gaia2_halo = np.load(data_dir+'gaia_data_halo.npy', allow_pickle=True)\n",
    "allstar_halo = np.load(data_dir+'allstar_halo.npy', allow_pickle=True)\n",
    "with open(data_dir+'orbits_halo.pkl','rb') as f:\n",
    "    os_halo = pickle.load(f)\n",
    "\n",
    "# Thin disk\n",
    "gaia2_thin = np.load(data_dir+'gaia_data_thin.npy', allow_pickle=True)\n",
    "allstar_thin = np.load(data_dir+'allstar_thin.npy', allow_pickle=True)\n",
    "with open(data_dir+'orbits_thin.pkl','rb') as f:\n",
    "    os_thin = pickle.load(f)    \n",
    "\n",
    "# Thick disk\n",
    "gaia2_thick = np.load(data_dir+'gaia_data_thick.npy', allow_pickle=True)\n",
    "allstar_thick = np.load(data_dir+'allstar_thick.npy', allow_pickle=True)\n",
    "with open(data_dir+'orbits_thick.pkl','rb') as f:\n",
    "    os_thick = pickle.load(f)\n",
    "    \n",
    "# All data\n",
    "ecc_all = np.load(data_dir+'ecc_all.npy', allow_pickle=True)\n",
    "allstar_all = np.load(data_dir+'allstar_all.npy', allow_pickle=True)\n",
    "with open(data_dir+'orbits_all.pkl','rb') as f:\n",
    "    os_all = pickle.load(f)\n",
    "##wi"
   ]
  },
  {
   "cell_type": "markdown",
   "metadata": {},
   "source": [
    "# Data figures"
   ]
  },
  {
   "cell_type": "markdown",
   "metadata": {},
   "source": [
    "## Figure 1: Show the APOGEE sample in R-z and X-Y"
   ]
  },
  {
   "cell_type": "code",
   "execution_count": null,
   "metadata": {},
   "outputs": [],
   "source": [
    "fig = plt.figure()\n",
    "fig.set_size_inches(5,6)\n",
    "\n",
    "ax1 = fig.add_subplot(211)\n",
    "ax2 = fig.add_subplot(212)\n",
    "\n",
    "n_bins = 50\n",
    "R_lim = [0,30]\n",
    "z_lim = [-15,15]\n",
    "x_lim = [-15,25]\n",
    "y_lim = [-20,20]\n",
    "\n",
    "# Plot Gaia-APOGEE data in rectangular / cylindrical coordinates\n",
    "h1,_,_ = np.histogram2d( os_all.R().value, os_all.z().value, bins=n_bins, range=[R_lim,z_lim] )\n",
    "h2,_,_ = np.histogram2d( os_all.x().value, os_all.y().value, bins=n_bins, range=[x_lim,y_lim] )\n",
    "\n",
    "ax1.imshow(np.log10(np.rot90(h1,k=1)), cmap='Greys', aspect='auto', vmin=-1, vmax=4, \n",
    "           extent=(R_lim[0],R_lim[1],z_lim[0],z_lim[1]) )\n",
    "ax2.imshow(np.log10(np.rot90(h2,k=1)), cmap='Greys', aspect='auto', vmin=-1, vmax=4, \n",
    "           extent=(x_lim[0],x_lim[1],y_lim[0],y_lim[1]) )\n",
    "\n",
    "# Lines\n",
    "ax1.axhline(0, linestyle='dashed', color='Black', linewidth=1.,  zorder=5)\n",
    "ax1.axvline(ro, linestyle='dashed', color='Black', linewidth=1., zorder=5)\n",
    "ax2.axhline(0, linestyle='dashed', color='Black', linewidth=1.,  zorder=5)\n",
    "ax2.axvline(0, linestyle='dashed', color='Black', linewidth=1.,  zorder=5)\n",
    "\n",
    "# Mark the Sun\n",
    "ax1.scatter(ro, 0, marker=r'$\\odot$', s=20, color='DarkOrange', zorder=6)\n",
    "ax2.scatter(ro, 0, marker=r'$\\odot$', s=20, color='DarkOrange',  zorder=6)\n",
    "\n",
    "ax1.set_xlim(R_lim)\n",
    "ax1.set_ylim(z_lim)\n",
    "ax1.set_xlabel('R [kpc]')\n",
    "ax1.set_ylabel('z [kpc]')\n",
    "\n",
    "ax2.set_xlim(x_lim)\n",
    "ax2.set_ylim(y_lim)\n",
    "ax2.set_xlabel('X [kpc]')\n",
    "ax2.set_ylabel('Y [kpc]')\n",
    "\n",
    "plt.tight_layout()\n",
    "fig.subplots_adjust(hspace=0.25)\n",
    "plt.savefig(fig_dir+'APOGEEGalactocentricRzXY.pdf',dpi=400,rasterized=True)"
   ]
  },
  {
   "cell_type": "markdown",
   "metadata": {},
   "source": [
    "## Figure 2: Show the abundances of APOGEE stars"
   ]
  },
  {
   "cell_type": "code",
   "execution_count": null,
   "metadata": {},
   "outputs": [],
   "source": [
    "fig = plt.figure()\n",
    "ax = fig.add_subplot(111)\n",
    "fig.set_size_inches(5,3)\n",
    "\n",
    "nbins = 100\n",
    "xlim = (-2.5,1.0)\n",
    "ylim = (-0.5,0.7)\n",
    "\n",
    "# Plot with eccentricity coloring\n",
    "divider = make_axes_locatable(ax)\n",
    "cax = divider.append_axes(\"right\", size=\"5%\", pad=0.1)\n",
    "ecc_sort = np.argsort(ecc_all)\n",
    "pts = ax.scatter(allstar_all['FE_H'][ecc_sort], allstar_all['MG_FE'][ecc_sort], s=0.1, alpha=1, \n",
    "                     c=ecc_all[ecc_sort], cmap=rainbow_cmap, vmin=0., vmax=1., rasterized=True)\n",
    "cbar = fig.colorbar(pts, cax=cax, orientation='vertical', pad=0.2)\n",
    "cbar.set_label('eccentricity', fontsize=11)\n",
    "\n",
    "# Overlay density\n",
    "xbinsize = (xlim[1]-xlim[0])/nbins\n",
    "ybinsize = (ylim[1]-ylim[0])/nbins\n",
    "hist,xedge,yedge = np.histogram2d(allstar_all['FE_H'],allstar_all['MG_FE'],bins=nbins,\n",
    "                                  range=[[xlim[0]-xbinsize,xlim[1]+xbinsize],\n",
    "                                         [ylim[0]-ybinsize,ylim[1]+ybinsize]])\n",
    "xcents = xedge[:-1] + (xlim[1]-xlim[0])/nbins\n",
    "ycents = yedge[:-1] + (ylim[1]-ylim[0])/nbins\n",
    "xcnt,ycnt = np.meshgrid(xcents,ycents)\n",
    "ax.contour(xcnt, ycnt, hist.T, colors='Black', levels=[20,100,500], zorder=5, \n",
    "            alpha=0.5)\n",
    "\n",
    "# Halo, thin, thick disk separators\n",
    "halo_x = [-1.2,-0.9]\n",
    "halo_y = [0.5,-0.2]\n",
    "disk_x = [-1.0,0.5] \n",
    "disk_y = [0.25,0.08]\n",
    "\n",
    "m_halo, b_halo = project_plot.get_params_from_line(halo_x, halo_y)\n",
    "m_disk, b_disk = project_plot.get_params_from_line(disk_x, disk_y)\n",
    "disk_x_start = disk_x[0]\n",
    "\n",
    "ax.set_xlabel(r'[Fe/H]')\n",
    "ax.set_ylabel(r'[Mg/Fe]')\n",
    "ax.set_ylim(-0.45,0.75)\n",
    "ax.set_xlim(-2.5,0.75)\n",
    "\n",
    "plot_halo_x = np.linspace(xlim[0],xlim[1],2)\n",
    "plot_halo_y = project_plot.line_equation(plot_halo_x, m_halo, b_halo)\n",
    "plot_disk_x = np.linspace(disk_x_start,xlim[1],2)\n",
    "plot_disk_y = project_plot.line_equation(plot_disk_x, m_disk, b_disk)\n",
    "\n",
    "ax.plot(plot_halo_x, plot_halo_y, color='Black', linestyle='solid', rasterized=True)\n",
    "ax.plot(plot_disk_x, plot_disk_y, color='Black', linestyle='dashed', rasterized=True)\n",
    "\n",
    "bbox_props = {'boxstyle':'round', 'facecolor':'White', 'alpha':1.0}\n",
    "bbox_text = ['Halo','Thin','Thick']\n",
    "bbox_locs = [[0.05,0.15],[0.85,0.15],[0.825,0.925]]\n",
    "for i in range(len(bbox_text)):\n",
    "    ax.text(bbox_locs[i][0], bbox_locs[i][1], bbox_text[i], transform=ax.transAxes, \n",
    "                fontsize=11, verticalalignment='top', bbox=bbox_props, rasterized=True )\n",
    "###i\n",
    "\n",
    "fig.tight_layout()\n",
    "fig.subplots_adjust(hspace=0.25)\n",
    "fig.savefig(fig_dir+'APOGEEDR16HaloDiscALPHAFE.pdf', dpi=300, rasterized=True)"
   ]
  },
  {
   "cell_type": "code",
   "execution_count": null,
   "metadata": {},
   "outputs": [],
   "source": []
  }
 ],
 "metadata": {
  "kernel_info": {
   "name": "python3"
  },
  "kernelspec": {
   "display_name": "Python 3",
   "language": "python",
   "name": "python3"
  },
  "language_info": {
   "codemirror_mode": {
    "name": "ipython",
    "version": 3
   },
   "file_extension": ".py",
   "mimetype": "text/x-python",
   "name": "python",
   "nbconvert_exporter": "python",
   "pygments_lexer": "ipython3",
   "version": "3.6.5"
  },
  "nteract": {
   "version": "0.15.0"
  }
 },
 "nbformat": 4,
 "nbformat_minor": 4
}
